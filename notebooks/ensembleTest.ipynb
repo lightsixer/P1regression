{
  "nbformat": 4,
  "nbformat_minor": 0,
  "metadata": {
    "colab": {
      "provenance": [],
      "authorship_tag": "ABX9TyPkcCYOQdzv1nmIEZP+icqH",
      "include_colab_link": true
    },
    "kernelspec": {
      "name": "python3",
      "display_name": "Python 3"
    },
    "language_info": {
      "name": "python"
    }
  },
  "cells": [
    {
      "cell_type": "markdown",
      "metadata": {
        "id": "view-in-github",
        "colab_type": "text"
      },
      "source": [
        "<a href=\"https://colab.research.google.com/github/lightsixer/P1regression/blob/dev/notebooks/ensembleTest.ipynb\" target=\"_parent\"><img src=\"https://colab.research.google.com/assets/colab-badge.svg\" alt=\"Open In Colab\"/></a>"
      ]
    },
    {
      "cell_type": "code",
      "execution_count": 35,
      "metadata": {
        "colab": {
          "base_uri": "https://localhost:8080/"
        },
        "id": "07-NUktadDCf",
        "outputId": "0bfc8df2-0e72-4ba8-8f60-ff1991d0c751"
      },
      "outputs": [
        {
          "output_type": "stream",
          "name": "stdout",
          "text": [
            "r2 score for Random Forest Regressor is :  0.9538834706647914\n",
            "r2 score for KNN Regressor is :  0.6099569289069076\n",
            "r2 score for ensemble is:  0.9645494727066584\n"
          ]
        },
        {
          "output_type": "stream",
          "name": "stderr",
          "text": [
            "/usr/local/lib/python3.10/dist-packages/sklearn/base.py:432: UserWarning: X has feature names, but RandomForestRegressor was fitted without feature names\n",
            "  warnings.warn(\n"
          ]
        }
      ],
      "source": [
        "#Paul Phillips\n",
        "#partly based on this link https://medium.com/@brijesh_soni/stacking-to-improve-model-performance-a-comprehensive-guide-on-ensemble-learning-in-python-9ed53c93ce28\n",
        "\n",
        "import pickle #importing libraries\n",
        "import pandas as pd\n",
        "import numpy as np\n",
        "import sklearn\n",
        "from sklearn.linear_model import LinearRegression\n",
        "from sklearn.neighbors import KNeighborsRegressor\n",
        "from sklearn.model_selection import train_test_split\n",
        "from sklearn.metrics import r2_score\n",
        "import pandas as pd\n",
        "pickleFile = open(\"rforest.pkl\", \"rb\") #opening pickle files containing the models\n",
        "pickleFile2 = open(\"knnModel.pkl\", \"rb\")\n",
        "obj = pd.read_pickle(pickleFile)\n",
        "obj2 = pd.read_pickle(pickleFile2)\n",
        "\n",
        "location = 'preptrain.csv' #obtaining location of data file\n",
        "data = pd.read_csv(location)\n",
        "data.head()\n",
        "\n",
        "X = data.drop('SalePrice', axis = 1) #dropping target variable from data\n",
        "y = data.SalePrice #y is the target\n",
        "#data is split along 80 for training and 20 for testing\n",
        "X_train, X_test, y_train, y_test = train_test_split(X, y, test_size=0.2, random_state=8945, shuffle = True)\n",
        "rfrPredict = obj.predict(X_test)\n",
        "r2Result = r2_score(y_test,rfrPredict)\n",
        "print(\"r2 score for Random Forest Regressor is : \", r2Result)\n",
        "\n",
        "knnPredict = obj2.predict(X_test)\n",
        "r2Result = r2_score(y_test,knnPredict)\n",
        "print(\"r2 score for KNN Regressor is : \", r2Result)\n",
        "\n",
        "stacker = np.column_stack((rfrPredict,knnPredict))\n",
        "ensemble = LinearRegression()\n",
        "ensemble.fit(stacker, y_test)\n",
        "predicter = ensemble.predict(stacker)\n",
        "r2Result = r2_score(y_test,predicter)\n",
        "print(\"r2 score for ensemble is: \", r2Result)"
      ]
    }
  ]
}