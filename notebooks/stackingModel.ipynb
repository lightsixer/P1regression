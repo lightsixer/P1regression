{
  "nbformat": 4,
  "nbformat_minor": 0,
  "metadata": {
    "colab": {
      "provenance": [],
      "authorship_tag": "ABX9TyOKblfhlJPRH7YLIRw8Qrp4",
      "include_colab_link": true
    },
    "kernelspec": {
      "name": "python3",
      "display_name": "Python 3"
    },
    "language_info": {
      "name": "python"
    }
  },
  "cells": [
    {
      "cell_type": "markdown",
      "metadata": {
        "id": "view-in-github",
        "colab_type": "text"
      },
      "source": [
        "<a href=\"https://colab.research.google.com/github/lightsixer/P1regression/blob/dev/notebooks/stackingModel.ipynb\" target=\"_parent\"><img src=\"https://colab.research.google.com/assets/colab-badge.svg\" alt=\"Open In Colab\"/></a>"
      ]
    },
    {
      "cell_type": "code",
      "execution_count": 12,
      "metadata": {
        "colab": {
          "base_uri": "https://localhost:8080/"
        },
        "id": "07-NUktadDCf",
        "outputId": "f6e6a930-0a27-49f4-9c1d-11426965dbdb"
      },
      "outputs": [
        {
          "output_type": "stream",
          "name": "stdout",
          "text": [
            "r2 score for Random Forest Regressor is :  0.9538834706647914\n",
            "r2 score for KNN Regressor is :  0.6099569289069076\n",
            "r2 score for gradient boosting regressor is :  0.6099569289069076\n",
            "r2 score for XGBoost regressor is :  0.9570186208226253\n",
            "\n",
            "r2 score for the stacking model is:  0.9775887319584419\n",
            "Average Error: 7644.8631 dollars.\n",
            "Accuracy = 95.14%.\n"
          ]
        },
        {
          "output_type": "stream",
          "name": "stderr",
          "text": [
            "/usr/local/lib/python3.10/dist-packages/sklearn/base.py:432: UserWarning: X has feature names, but RandomForestRegressor was fitted without feature names\n",
            "  warnings.warn(\n"
          ]
        }
      ],
      "source": [
        "#Group 13 Stacking Model\n",
        "#partly based on information from this link https://medium.com/@brijesh_soni/stacking-to-improve-model-performance-a-comprehensive-guide-on-ensemble-learning-in-python-9ed53c93ce28\n",
        "\n",
        "import pickle #importing libraries\n",
        "import pandas as pd\n",
        "import numpy as np\n",
        "import sklearn\n",
        "from sklearn.linear_model import LinearRegression\n",
        "from sklearn.neighbors import KNeighborsRegressor\n",
        "from sklearn.ensemble import GradientBoostingRegressor\n",
        "from sklearn.model_selection import train_test_split\n",
        "from sklearn.metrics import r2_score\n",
        "import pandas as pd\n",
        "\n",
        "pickleFile = open(\"rforest.pkl\", \"rb\") #opening pickle files containing the models\n",
        "pickleFile2 = open(\"knnModel.pkl\", \"rb\")\n",
        "pickleFile3 = open(\"gboostModel.pkl\", \"rb\")\n",
        "pickleFile4 = open(\"XGBOOST.pkl\", \"rb\")\n",
        "\n",
        "rfModel = pd.read_pickle(pickleFile) #placing the models into variables\n",
        "knnModel = pd.read_pickle(pickleFile2)\n",
        "gboostModel = pd.read_pickle(pickleFile3)\n",
        "xgboostModel = pd.read_pickle(pickleFile4)\n",
        "\n",
        "location = 'preptrain.csv' #obtaining location of data file\n",
        "data = pd.read_csv(location)\n",
        "data.head()\n",
        "\n",
        "X = data.drop('SalePrice', axis = 1) #dropping target variable from data\n",
        "y = data.SalePrice #y is the target\n",
        "#data is split along 80 for training and 20 for testing\n",
        "X_train, X_test, y_train, y_test = train_test_split(X, y, test_size=0.2, random_state=8945, shuffle = True)\n",
        "#random forest regression method makes prediction\n",
        "rfrPredict = rfModel.predict(X_test)\n",
        "r2Result = r2_score(y_test,rfrPredict)\n",
        "print(\"r2 score for Random Forest Regressor is : \", r2Result)\n",
        "#knn regression method makes prediction\n",
        "knnPredict = knnModel.predict(X_test)\n",
        "r2Result = r2_score(y_test,knnPredict)\n",
        "print(\"r2 score for KNN Regressor is : \", r2Result)\n",
        "#gradient boost regression method makes prediction\n",
        "gboostPredict = gboostModel.predict(X_test)\n",
        "r2Result = r2_score(y_test,knnPredict)\n",
        "print(\"r2 score for gradient boosting regressor is : \", r2Result)\n",
        "#XGBoost regressor method makes prediction\n",
        "xgbPredict = xgboostModel.predict(X_test)\n",
        "r2Result = r2_score(y_test,xgbPredict)\n",
        "print(\"r2 score for XGBoost regressor is : \", r2Result)\n",
        "print(\"\")\n",
        "#predictions are used for stacking model\n",
        "stacker = np.column_stack((rfrPredict,knnPredict, gboostPredict, xgbPredict))\n",
        "stackingModel = LinearRegression()\n",
        "stackingModel.fit(stacker, y_test) #stack is used for training\n",
        "predicter = stackingModel.predict(stacker)\n",
        "r2Result = r2_score(y_test,predicter)\n",
        "print(\"r2 score for the stacking model is: \", r2Result)\n",
        "\n",
        "errors = abs(predicter - y_test) #testing for accuracy and error\n",
        "mape = 100 * np.mean(errors/ y_test)\n",
        "accuracy = 100 - mape\n",
        "print('Average Error: {:0.4f} dollars.'.format(np.mean(errors)))\n",
        "print('Accuracy = {:0.2f}%.'.format(accuracy))"
      ]
    }
  ]
}