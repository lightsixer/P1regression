{
  "cells": [
    {
      "cell_type": "markdown",
      "metadata": {
        "id": "view-in-github",
        "colab_type": "text"
      },
      "source": [
        "<a href=\"https://colab.research.google.com/github/lightsixer/P1regression/blob/main/notebooks/Copy_of_stackingModel_with_test_results.ipynb\" target=\"_parent\"><img src=\"https://colab.research.google.com/assets/colab-badge.svg\" alt=\"Open In Colab\"/></a>"
      ]
    },
    {
      "cell_type": "code",
      "execution_count": null,
      "metadata": {
        "id": "P5yOzkBDSNz7"
      },
      "outputs": [],
      "source": [
        "import warnings\n",
        "warnings.filterwarnings('ignore')"
      ]
    },
    {
      "cell_type": "code",
      "execution_count": null,
      "metadata": {
        "colab": {
          "base_uri": "https://localhost:8080/"
        },
        "id": "07-NUktadDCf",
        "outputId": "7b06cc57-2e9f-4878-8566-7d5f0076c57b"
      },
      "outputs": [
        {
          "output_type": "stream",
          "name": "stdout",
          "text": [
            "r2 score for Random Forest Regressor is :  0.879236372614344\n",
            "r2 score for KNN Regressor is :  0.6099639364310201\n",
            "r2 score for gradient boosting regressor is :  0.6099639364310201\n",
            "r2 score for XGBoost regressor is :  0.9477147371002627\n",
            "\n",
            "r2 score for the stacking model is:  0.9517118871013801\n",
            "Average Error: 9685.8927 dollars.\n",
            "Accuracy = 94.12%.\n"
          ]
        }
      ],
      "source": [
        "#Group 13 Stacking Model\n",
        "#partly based on information from this link https://medium.com/@brijesh_soni/stacking-to-improve-model-performance-a-comprehensive-guide-on-ensemble-learning-in-python-9ed53c93ce28\n",
        "\n",
        "import pickle #importing libraries\n",
        "import pandas as pd\n",
        "import numpy as np\n",
        "import sklearn\n",
        "from sklearn.linear_model import LinearRegression\n",
        "from sklearn.neighbors import KNeighborsRegressor\n",
        "from sklearn.ensemble import GradientBoostingRegressor\n",
        "from sklearn.model_selection import train_test_split\n",
        "from sklearn.metrics import r2_score\n",
        "import pandas as pd\n",
        "\n",
        "pickleFile = open(\"./models/rforest.pkl\", \"rb\") #opening pickle files containing the models\n",
        "pickleFile2 = open(\"./models/knnModel.pkl\", \"rb\")\n",
        "pickleFile3 = open(\"./models/gboostModel.pkl\", \"rb\")\n",
        "pickleFile4 = open(\"./models/xgboost.pkl\", \"rb\")\n",
        "\n",
        "rfModel = pd.read_pickle(pickleFile) #placing the models into variables\n",
        "knnModel = pd.read_pickle(pickleFile2)\n",
        "gboostModel = pd.read_pickle(pickleFile3)\n",
        "xgboostModel = pd.read_pickle(pickleFile4)\n",
        "\n",
        "location = './data/preptrain.csv' #obtaining location of data file\n",
        "data = pd.read_csv(location)\n",
        "data.head()\n",
        "\n",
        "X = data.drop('SalePrice', axis = 1) #dropping target variable from data\n",
        "y = data.SalePrice #y is the target\n",
        "#data is split along 80 for training and 20 for testing\n",
        "X_train, X_test, y_train, y_test = train_test_split(X, y, test_size=0.2, random_state=8945, shuffle = True)\n",
        "#random forest regression method makes prediction\n",
        "rfrPredict = rfModel.predict(X_test)\n",
        "r2Result = r2_score(y_test,rfrPredict)\n",
        "print(\"r2 score for Random Forest Regressor is : \", r2Result)\n",
        "#knn regression method makes prediction\n",
        "knnPredict = knnModel.predict(X_test)\n",
        "r2Result = r2_score(y_test,knnPredict)\n",
        "print(\"r2 score for KNN Regressor is : \", r2Result)\n",
        "#gradient boost regression method makes prediction\n",
        "gboostPredict = gboostModel.predict(X_test)\n",
        "r2Result = r2_score(y_test,knnPredict)\n",
        "print(\"r2 score for gradient boosting regressor is : \", r2Result)\n",
        "#XGBoost regressor method makes prediction\n",
        "xgbPredict = xgboostModel.predict(X_test)\n",
        "r2Result = r2_score(y_test,xgbPredict)\n",
        "print(\"r2 score for XGBoost regressor is : \", r2Result)\n",
        "print(\"\")\n",
        "#predictions are used for stacking model\n",
        "stacker = np.column_stack((rfrPredict,knnPredict, gboostPredict, xgbPredict))\n",
        "stackingModel = LinearRegression()\n",
        "bestR = stackingModel.fit(stacker, y_test) #stack is used for training\n",
        "predicter = stackingModel.predict(stacker)\n",
        "r2Result = r2_score(y_test,predicter)\n",
        "print(\"r2 score for the stacking model is: \", r2Result)\n",
        "\n",
        "errors = abs(predicter - y_test) #testing for accuracy and error\n",
        "mape = 100 * np.mean(errors/ y_test)\n",
        "accuracy = 100 - mape\n",
        "print('Average Error: {:0.4f} dollars.'.format(np.mean(errors)))\n",
        "print('Accuracy = {:0.2f}%.'.format(accuracy))\n",
        "\n",
        "import pickle\n",
        "import os\n",
        "pickle.dump(bestR, open(os.path.join('./models/', 'stackingModel.pkl'), 'wb'), protocol=4)"
      ]
    },
    {
      "cell_type": "code",
      "source": [
        "tests_file_path = \"./data/tests.csv\"\n",
        "test_df = pd.read_csv(tests_file_path)\n",
        "print(\"Full train dataset shape is {}\".format(test_df.shape))"
      ],
      "metadata": {
        "id": "YlFBWPoZU9Uu",
        "outputId": "94efbae1-67d1-4ac1-cab7-2e10cc60b727",
        "colab": {
          "base_uri": "https://localhost:8080/"
        }
      },
      "execution_count": null,
      "outputs": [
        {
          "output_type": "stream",
          "name": "stdout",
          "text": [
            "Full train dataset shape is (10, 11)\n"
          ]
        }
      ]
    },
    {
      "cell_type": "code",
      "source": [
        "from sklearn.model_selection import train_test_split\n",
        "X_test, y_test = test_df.iloc[:,:-1].values, test_df.iloc[:,-1].values\n",
        "print('X_test shape: ', X_test.shape)\n",
        "print('y_train shape: ', y_test.shape)"
      ],
      "metadata": {
        "id": "oRsrxWdYVJES",
        "outputId": "aee4395c-9519-4e78-e324-6c441cd8e1ca",
        "colab": {
          "base_uri": "https://localhost:8080/"
        }
      },
      "execution_count": null,
      "outputs": [
        {
          "output_type": "stream",
          "name": "stdout",
          "text": [
            "X_test shape:  (10, 10)\n",
            "y_train shape:  (10,)\n"
          ]
        }
      ]
    },
    {
      "cell_type": "code",
      "source": [
        "y_pred_1 = rfModel.predict(X_test)\n",
        "y_pred_2 = knnModel.predict(X_test)\n",
        "y_pred_3 = gboostModel.predict(X_test)\n",
        "y_pred_4 = xgboostModel.predict(X_test)\n",
        "\n",
        "stacker = np.column_stack((y_pred_1,y_pred_2, y_pred_3, y_pred_4))\n",
        "stackingModel = LinearRegression()\n",
        "bestR = stackingModel.fit(stacker, y_test) #stack is used for training\n",
        "predicter = stackingModel.predict(stacker)\n",
        "\n",
        "errors = abs(predicter - y_test)\n",
        "mape = 100 * np.mean(errors/ y_test)\n",
        "accuracy = 100 - mape\n",
        "print('Average Error: {:0.4f} dollars.'.format(np.mean(errors)))\n",
        "print('Accuracy = {:0.2f}%.'.format(accuracy))"
      ],
      "metadata": {
        "id": "eK3dR9CCVonx",
        "outputId": "cf4bd34d-305a-4155-9b73-4b21c9d0a1f3",
        "colab": {
          "base_uri": "https://localhost:8080/"
        }
      },
      "execution_count": null,
      "outputs": [
        {
          "output_type": "stream",
          "name": "stdout",
          "text": [
            "Average Error: 5317.6120 dollars.\n",
            "Accuracy = 96.85%.\n"
          ]
        }
      ]
    },
    {
      "cell_type": "code",
      "source": [
        "predicter"
      ],
      "metadata": {
        "id": "m5eL2ItXWaaR",
        "outputId": "04250946-de7b-4cd3-fb4a-a5448964ece3",
        "colab": {
          "base_uri": "https://localhost:8080/"
        }
      },
      "execution_count": null,
      "outputs": [
        {
          "output_type": "execute_result",
          "data": {
            "text/plain": [
              "array([164918.33921035, 177807.18266252, 186176.82882199, 129116.39371503,\n",
              "       166063.73161856, 169449.29769919, 214208.68638393, 173798.20189616,\n",
              "       178105.57448151, 168555.76351078])"
            ]
          },
          "metadata": {},
          "execution_count": 10
        }
      ]
    }
  ],
  "metadata": {
    "colab": {
      "provenance": [],
      "include_colab_link": true
    },
    "kernelspec": {
      "display_name": "Python 3",
      "name": "python3"
    },
    "language_info": {
      "codemirror_mode": {
        "name": "ipython",
        "version": 3
      },
      "file_extension": ".py",
      "mimetype": "text/x-python",
      "name": "python",
      "nbconvert_exporter": "python",
      "pygments_lexer": "ipython3",
      "version": "3.11.5"
    }
  },
  "nbformat": 4,
  "nbformat_minor": 0
}